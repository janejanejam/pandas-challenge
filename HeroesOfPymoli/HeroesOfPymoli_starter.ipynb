{
 "cells": [
  {
   "cell_type": "markdown",
   "metadata": {},
   "source": [
    "### Heroes Of Pymoli Data Analysis\n",
    "* Of the 1163 active players, the vast majority are male (84%). There also exists, a smaller, but notable proportion of female players (14%).\n",
    "\n",
    "* Our peak age demographic falls between 20-24 (44.8%) with secondary groups falling between 15-19 (18.60%) and 25-29 (13.4%).  \n",
    "-----"
   ]
  },
  {
   "cell_type": "markdown",
   "metadata": {},
   "source": [
    "### Note\n",
    "* Instructions have been included for each segment. You do not have to follow them exactly, but they are included to help you think through the steps."
   ]
  },
  {
   "cell_type": "code",
   "execution_count": 2,
   "metadata": {},
   "outputs": [
    {
     "data": {
      "text/html": [
       "<div>\n",
       "<style scoped>\n",
       "    .dataframe tbody tr th:only-of-type {\n",
       "        vertical-align: middle;\n",
       "    }\n",
       "\n",
       "    .dataframe tbody tr th {\n",
       "        vertical-align: top;\n",
       "    }\n",
       "\n",
       "    .dataframe thead th {\n",
       "        text-align: right;\n",
       "    }\n",
       "</style>\n",
       "<table border=\"1\" class=\"dataframe\">\n",
       "  <thead>\n",
       "    <tr style=\"text-align: right;\">\n",
       "      <th></th>\n",
       "      <th>Purchase ID</th>\n",
       "      <th>SN</th>\n",
       "      <th>Age</th>\n",
       "      <th>Gender</th>\n",
       "      <th>Item ID</th>\n",
       "      <th>Item Name</th>\n",
       "      <th>Price</th>\n",
       "    </tr>\n",
       "  </thead>\n",
       "  <tbody>\n",
       "    <tr>\n",
       "      <th>0</th>\n",
       "      <td>0</td>\n",
       "      <td>Lisim78</td>\n",
       "      <td>20</td>\n",
       "      <td>Male</td>\n",
       "      <td>108</td>\n",
       "      <td>Extraction, Quickblade Of Trembling Hands</td>\n",
       "      <td>3.53</td>\n",
       "    </tr>\n",
       "    <tr>\n",
       "      <th>1</th>\n",
       "      <td>1</td>\n",
       "      <td>Lisovynya38</td>\n",
       "      <td>40</td>\n",
       "      <td>Male</td>\n",
       "      <td>143</td>\n",
       "      <td>Frenzied Scimitar</td>\n",
       "      <td>1.56</td>\n",
       "    </tr>\n",
       "    <tr>\n",
       "      <th>2</th>\n",
       "      <td>2</td>\n",
       "      <td>Ithergue48</td>\n",
       "      <td>24</td>\n",
       "      <td>Male</td>\n",
       "      <td>92</td>\n",
       "      <td>Final Critic</td>\n",
       "      <td>4.88</td>\n",
       "    </tr>\n",
       "    <tr>\n",
       "      <th>3</th>\n",
       "      <td>3</td>\n",
       "      <td>Chamassasya86</td>\n",
       "      <td>24</td>\n",
       "      <td>Male</td>\n",
       "      <td>100</td>\n",
       "      <td>Blindscythe</td>\n",
       "      <td>3.27</td>\n",
       "    </tr>\n",
       "    <tr>\n",
       "      <th>4</th>\n",
       "      <td>4</td>\n",
       "      <td>Iskosia90</td>\n",
       "      <td>23</td>\n",
       "      <td>Male</td>\n",
       "      <td>131</td>\n",
       "      <td>Fury</td>\n",
       "      <td>1.44</td>\n",
       "    </tr>\n",
       "  </tbody>\n",
       "</table>\n",
       "</div>"
      ],
      "text/plain": [
       "   Purchase ID             SN  Age Gender  Item ID  \\\n",
       "0            0        Lisim78   20   Male      108   \n",
       "1            1    Lisovynya38   40   Male      143   \n",
       "2            2     Ithergue48   24   Male       92   \n",
       "3            3  Chamassasya86   24   Male      100   \n",
       "4            4      Iskosia90   23   Male      131   \n",
       "\n",
       "                                   Item Name  Price  \n",
       "0  Extraction, Quickblade Of Trembling Hands   3.53  \n",
       "1                          Frenzied Scimitar   1.56  \n",
       "2                               Final Critic   4.88  \n",
       "3                                Blindscythe   3.27  \n",
       "4                                       Fury   1.44  "
      ]
     },
     "execution_count": 2,
     "metadata": {},
     "output_type": "execute_result"
    }
   ],
   "source": [
    "# Dependencies and Setup\n",
    "import pandas as pd\n",
    "import pathlib\n",
    "\n",
    "# File to Load (Remember to Change These)\n",
    "file_to_load = pathlib.Path(\"Resources/purchase_data.csv\")\n",
    "\n",
    "# Read Purchasing File and store into Pandas data frame\n",
    "purchase_raw_df = pd.read_csv(file_to_load)\n",
    "purchase_raw_df.head()\n",
    "\n",
    "#780 rows, 7 columns"
   ]
  },
  {
   "cell_type": "markdown",
   "metadata": {},
   "source": [
    "## Player Count"
   ]
  },
  {
   "cell_type": "markdown",
   "metadata": {},
   "source": [
    "* Display the total number of players\n"
   ]
  },
  {
   "cell_type": "code",
   "execution_count": 3,
   "metadata": {},
   "outputs": [
    {
     "data": {
      "text/html": [
       "<div>\n",
       "<style scoped>\n",
       "    .dataframe tbody tr th:only-of-type {\n",
       "        vertical-align: middle;\n",
       "    }\n",
       "\n",
       "    .dataframe tbody tr th {\n",
       "        vertical-align: top;\n",
       "    }\n",
       "\n",
       "    .dataframe thead th {\n",
       "        text-align: right;\n",
       "    }\n",
       "</style>\n",
       "<table border=\"1\" class=\"dataframe\">\n",
       "  <thead>\n",
       "    <tr style=\"text-align: right;\">\n",
       "      <th></th>\n",
       "      <th>Total Players</th>\n",
       "    </tr>\n",
       "  </thead>\n",
       "  <tbody>\n",
       "    <tr>\n",
       "      <th>0</th>\n",
       "      <td>576</td>\n",
       "    </tr>\n",
       "  </tbody>\n",
       "</table>\n",
       "</div>"
      ],
      "text/plain": [
       "   Total Players\n",
       "0            576"
      ]
     },
     "execution_count": 3,
     "metadata": {},
     "output_type": "execute_result"
    }
   ],
   "source": [
    "# Display total number of players\n",
    "unique_players = pd.Series(purchase_raw_df[\"SN\"]).unique()\n",
    "player_count = {\"Total Players\": [len(unique_players)]}\n",
    "player_count_df = pd.DataFrame(data=player_count)\n",
    "player_count_df\n"
   ]
  },
  {
   "cell_type": "markdown",
   "metadata": {},
   "source": [
    "## Purchasing Analysis (Total)"
   ]
  },
  {
   "cell_type": "markdown",
   "metadata": {},
   "source": [
    "* Run basic calculations to obtain number of unique items, average price, etc.\n",
    "\n",
    "\n",
    "* Create a summary data frame to hold the results\n",
    "\n",
    "\n",
    "* Optional: give the displayed data cleaner formatting\n",
    "\n",
    "\n",
    "* Display the summary data frame\n"
   ]
  },
  {
   "cell_type": "code",
   "execution_count": null,
   "metadata": {
    "scrolled": true
   },
   "outputs": [],
   "source": []
  },
  {
   "cell_type": "code",
   "execution_count": 4,
   "metadata": {},
   "outputs": [
    {
     "data": {
      "text/html": [
       "<style  type=\"text/css\" >\n",
       "</style><table id=\"T_d957ab6a_8691_11ea_8fe5_50de06c7c5d4\" ><thead>    <tr>        <th class=\"blank level0\" ></th>        <th class=\"col_heading level0 col0\" >Number of Unique Items</th>        <th class=\"col_heading level0 col1\" >Average Price</th>        <th class=\"col_heading level0 col2\" >Number of Purchases</th>        <th class=\"col_heading level0 col3\" >Total Revenue</th>    </tr></thead><tbody>\n",
       "                <tr>\n",
       "                        <th id=\"T_d957ab6a_8691_11ea_8fe5_50de06c7c5d4level0_row0\" class=\"row_heading level0 row0\" >0</th>\n",
       "                        <td id=\"T_d957ab6a_8691_11ea_8fe5_50de06c7c5d4row0_col0\" class=\"data row0 col0\" >179</td>\n",
       "                        <td id=\"T_d957ab6a_8691_11ea_8fe5_50de06c7c5d4row0_col1\" class=\"data row0 col1\" >$3.05</td>\n",
       "                        <td id=\"T_d957ab6a_8691_11ea_8fe5_50de06c7c5d4row0_col2\" class=\"data row0 col2\" >780</td>\n",
       "                        <td id=\"T_d957ab6a_8691_11ea_8fe5_50de06c7c5d4row0_col3\" class=\"data row0 col3\" >$2,379.77</td>\n",
       "            </tr>\n",
       "    </tbody></table>"
      ],
      "text/plain": [
       "<pandas.io.formats.style.Styler at 0x11ffec950>"
      ]
     },
     "execution_count": 4,
     "metadata": {},
     "output_type": "execute_result"
    }
   ],
   "source": [
    "# Run calculations to obtain number of unique items, avg price, number of purchase, total revenue\n",
    "unique_items = len(pd.Series(purchase_raw_df[\"Item ID\"]).unique())\n",
    "average_price = purchase_raw_df[\"Price\"].mean()\n",
    "number_purchases = len(pd.Series(purchase_raw_df[\"Purchase ID\"]))\n",
    "total_revenue = purchase_raw_df[\"Price\"].sum()\n",
    "\n",
    "# Create summary data frame to hold results\n",
    "purchase_summary_df = pd.DataFrame({\n",
    "    \"Number of Unique Items\": [unique_items], \n",
    "    \"Average Price\": [average_price], \n",
    "    \"Number of Purchases\": [number_purchases], \n",
    "    \"Total Revenue\": [total_revenue]})\n",
    "\n",
    "# Display data in cleaner format\n",
    "purchase_summary_df.style.format({\n",
    "    \"Average Price\": \"${:.2f}\",\n",
    "    \"Total Revenue\": \"${:,.2f}\"})\n"
   ]
  },
  {
   "cell_type": "code",
   "execution_count": null,
   "metadata": {},
   "outputs": [],
   "source": []
  },
  {
   "cell_type": "markdown",
   "metadata": {},
   "source": [
    "## Gender Demographics"
   ]
  },
  {
   "cell_type": "markdown",
   "metadata": {},
   "source": [
    "* Percentage and Count of Male Players\n",
    "\n",
    "\n",
    "* Percentage and Count of Female Players\n",
    "\n",
    "\n",
    "* Percentage and Count of Other / Non-Disclosed\n",
    "\n",
    "\n"
   ]
  },
  {
   "cell_type": "code",
   "execution_count": 5,
   "metadata": {},
   "outputs": [
    {
     "data": {
      "text/html": [
       "<style  type=\"text/css\" >\n",
       "</style><table id=\"T_d998157e_8691_11ea_8fe5_50de06c7c5d4\" ><thead>    <tr>        <th class=\"blank level0\" ></th>        <th class=\"col_heading level0 col0\" >Total Count</th>        <th class=\"col_heading level0 col1\" >Percentage of Players</th>    </tr>    <tr>        <th class=\"index_name level0\" >Gender</th>        <th class=\"blank\" ></th>        <th class=\"blank\" ></th>    </tr></thead><tbody>\n",
       "                <tr>\n",
       "                        <th id=\"T_d998157e_8691_11ea_8fe5_50de06c7c5d4level0_row0\" class=\"row_heading level0 row0\" >Male</th>\n",
       "                        <td id=\"T_d998157e_8691_11ea_8fe5_50de06c7c5d4row0_col0\" class=\"data row0 col0\" >484</td>\n",
       "                        <td id=\"T_d998157e_8691_11ea_8fe5_50de06c7c5d4row0_col1\" class=\"data row0 col1\" >84.03%</td>\n",
       "            </tr>\n",
       "            <tr>\n",
       "                        <th id=\"T_d998157e_8691_11ea_8fe5_50de06c7c5d4level0_row1\" class=\"row_heading level0 row1\" >Female</th>\n",
       "                        <td id=\"T_d998157e_8691_11ea_8fe5_50de06c7c5d4row1_col0\" class=\"data row1 col0\" >81</td>\n",
       "                        <td id=\"T_d998157e_8691_11ea_8fe5_50de06c7c5d4row1_col1\" class=\"data row1 col1\" >14.06%</td>\n",
       "            </tr>\n",
       "            <tr>\n",
       "                        <th id=\"T_d998157e_8691_11ea_8fe5_50de06c7c5d4level0_row2\" class=\"row_heading level0 row2\" >Other / Non-Disclosed</th>\n",
       "                        <td id=\"T_d998157e_8691_11ea_8fe5_50de06c7c5d4row2_col0\" class=\"data row2 col0\" >11</td>\n",
       "                        <td id=\"T_d998157e_8691_11ea_8fe5_50de06c7c5d4row2_col1\" class=\"data row2 col1\" >1.91%</td>\n",
       "            </tr>\n",
       "    </tbody></table>"
      ],
      "text/plain": [
       "<pandas.io.formats.style.Styler at 0x1213b8cd0>"
      ]
     },
     "execution_count": 5,
     "metadata": {},
     "output_type": "execute_result"
    }
   ],
   "source": [
    "# Create data frame of unique players grouped by gender\n",
    "unique_players_df=purchase_raw_df.drop_duplicates(subset=[\"SN\"])\n",
    "gender_unique_df = unique_players_df.groupby([\"Gender\"])\n",
    "\n",
    "# Run calculations for total count and percentage of players by gender\n",
    "total_gender_count = gender_unique_df[\"Gender\"].count()\n",
    "percentage_players_gender = gender_unique_df[\"Gender\"].count() / unique_players_df[\"Gender\"].count() * 100\n",
    "\n",
    "# Create summary data frame to hold results\n",
    "gender_summary_df = pd.DataFrame({\n",
    "    \"Total Count\": total_gender_count,\n",
    "    \"Percentage of Players\": percentage_players_gender})\n",
    "            \n",
    "# Sort data by total count\n",
    "gender_sorted_df = gender_summary_df.sort_values([\"Total Count\"], ascending=False)\n",
    "\n",
    "# Display data in cleaner format\n",
    "gender_sorted_df.style.format({\n",
    "    \"Percentage of Players\":\"{:.2f}%\"})\n"
   ]
  },
  {
   "cell_type": "markdown",
   "metadata": {},
   "source": [
    "\n",
    "## Purchasing Analysis (Gender)"
   ]
  },
  {
   "cell_type": "markdown",
   "metadata": {},
   "source": [
    "* Run basic calculations to obtain purchase count, avg. purchase price, avg. purchase total per person etc. by gender\n",
    "\n",
    "\n",
    "\n",
    "\n",
    "* Create a summary data frame to hold the results\n",
    "\n",
    "\n",
    "* Optional: give the displayed data cleaner formatting\n",
    "\n",
    "\n",
    "* Display the summary data frame"
   ]
  },
  {
   "cell_type": "code",
   "execution_count": 6,
   "metadata": {},
   "outputs": [
    {
     "data": {
      "text/html": [
       "<style  type=\"text/css\" >\n",
       "</style><table id=\"T_da22b67a_8691_11ea_8fe5_50de06c7c5d4\" ><thead>    <tr>        <th class=\"blank level0\" ></th>        <th class=\"col_heading level0 col0\" >Purchase Count</th>        <th class=\"col_heading level0 col1\" >Average Purchase Price</th>        <th class=\"col_heading level0 col2\" >Total Purchase Value</th>        <th class=\"col_heading level0 col3\" >Avg Total Purchase per Person</th>    </tr>    <tr>        <th class=\"index_name level0\" >Gender</th>        <th class=\"blank\" ></th>        <th class=\"blank\" ></th>        <th class=\"blank\" ></th>        <th class=\"blank\" ></th>    </tr></thead><tbody>\n",
       "                <tr>\n",
       "                        <th id=\"T_da22b67a_8691_11ea_8fe5_50de06c7c5d4level0_row0\" class=\"row_heading level0 row0\" >Male</th>\n",
       "                        <td id=\"T_da22b67a_8691_11ea_8fe5_50de06c7c5d4row0_col0\" class=\"data row0 col0\" >652</td>\n",
       "                        <td id=\"T_da22b67a_8691_11ea_8fe5_50de06c7c5d4row0_col1\" class=\"data row0 col1\" >$3.02</td>\n",
       "                        <td id=\"T_da22b67a_8691_11ea_8fe5_50de06c7c5d4row0_col2\" class=\"data row0 col2\" >$1,967.64</td>\n",
       "                        <td id=\"T_da22b67a_8691_11ea_8fe5_50de06c7c5d4row0_col3\" class=\"data row0 col3\" >$4.07</td>\n",
       "            </tr>\n",
       "            <tr>\n",
       "                        <th id=\"T_da22b67a_8691_11ea_8fe5_50de06c7c5d4level0_row1\" class=\"row_heading level0 row1\" >Female</th>\n",
       "                        <td id=\"T_da22b67a_8691_11ea_8fe5_50de06c7c5d4row1_col0\" class=\"data row1 col0\" >113</td>\n",
       "                        <td id=\"T_da22b67a_8691_11ea_8fe5_50de06c7c5d4row1_col1\" class=\"data row1 col1\" >$3.20</td>\n",
       "                        <td id=\"T_da22b67a_8691_11ea_8fe5_50de06c7c5d4row1_col2\" class=\"data row1 col2\" >$361.94</td>\n",
       "                        <td id=\"T_da22b67a_8691_11ea_8fe5_50de06c7c5d4row1_col3\" class=\"data row1 col3\" >$4.47</td>\n",
       "            </tr>\n",
       "            <tr>\n",
       "                        <th id=\"T_da22b67a_8691_11ea_8fe5_50de06c7c5d4level0_row2\" class=\"row_heading level0 row2\" >Other / Non-Disclosed</th>\n",
       "                        <td id=\"T_da22b67a_8691_11ea_8fe5_50de06c7c5d4row2_col0\" class=\"data row2 col0\" >15</td>\n",
       "                        <td id=\"T_da22b67a_8691_11ea_8fe5_50de06c7c5d4row2_col1\" class=\"data row2 col1\" >$3.35</td>\n",
       "                        <td id=\"T_da22b67a_8691_11ea_8fe5_50de06c7c5d4row2_col2\" class=\"data row2 col2\" >$50.19</td>\n",
       "                        <td id=\"T_da22b67a_8691_11ea_8fe5_50de06c7c5d4row2_col3\" class=\"data row2 col3\" >$4.56</td>\n",
       "            </tr>\n",
       "    </tbody></table>"
      ],
      "text/plain": [
       "<pandas.io.formats.style.Styler at 0x120c9f450>"
      ]
     },
     "execution_count": 6,
     "metadata": {},
     "output_type": "execute_result"
    }
   ],
   "source": [
    "# Create data frame of all purchases grouped by gender\n",
    "gender_all_df = purchase_raw_df.groupby([\"Gender\"])\n",
    "\n",
    "# Run calculations for purchase count, avg purchase price, total purchase value, avg purchase per person\n",
    "purchase_count = gender_all_df[\"Purchase ID\"].count()\n",
    "avg_purchase_price = gender_all_df[\"Price\"].mean()\n",
    "total_purchase_value = gender_all_df[\"Price\"].sum()\n",
    "total_gender_count = gender_all_df.nunique()[\"SN\"]\n",
    "avg_purchase_per_person = total_purchase_value / total_gender_count\n",
    "\n",
    "# Create summary data frame to hold results\n",
    "gender_purchase_summary_df = pd.DataFrame({\n",
    "    \"Purchase Count\": purchase_count,\n",
    "    \"Average Purchase Price\": avg_purchase_price,\n",
    "    \"Total Purchase Value\": total_purchase_value,\n",
    "    \"Avg Total Purchase per Person\": avg_purchase_per_person})\n",
    "\n",
    "# Sort data by purchase count\n",
    "gender_purchase_sorted_df = gender_purchase_summary_df.sort_values([\"Purchase Count\"], ascending=False)\n",
    "\n",
    "# Display data in cleaner format\n",
    "gender_purchase_sorted_df.style.format({\n",
    "    \"Average Purchase Price\": \"${:,.2f}\",\n",
    "    \"Total Purchase Value\": \"${:,.2f}\",\n",
    "    \"Avg Total Purchase per Person\": \"${:,.2f}\"})\n",
    "\n"
   ]
  },
  {
   "cell_type": "markdown",
   "metadata": {},
   "source": [
    "## Age Demographics"
   ]
  },
  {
   "cell_type": "markdown",
   "metadata": {},
   "source": [
    "* Establish bins for ages\n",
    "\n",
    "\n",
    "* Categorize the existing players using the age bins. Hint: use pd.cut()\n",
    "\n",
    "\n",
    "* Calculate the numbers and percentages by age group\n",
    "\n",
    "\n",
    "* Create a summary data frame to hold the results\n",
    "\n",
    "\n",
    "* Optional: round the percentage column to two decimal points\n",
    "\n",
    "\n",
    "* Display Age Demographics Table\n"
   ]
  },
  {
   "cell_type": "code",
   "execution_count": 7,
   "metadata": {},
   "outputs": [
    {
     "name": "stderr",
     "output_type": "stream",
     "text": [
      "/Applications/anaconda3/lib/python3.7/site-packages/ipykernel_launcher.py:10: SettingWithCopyWarning: \n",
      "A value is trying to be set on a copy of a slice from a DataFrame.\n",
      "Try using .loc[row_indexer,col_indexer] = value instead\n",
      "\n",
      "See the caveats in the documentation: https://pandas.pydata.org/pandas-docs/stable/user_guide/indexing.html#returning-a-view-versus-a-copy\n",
      "  # Remove the CWD from sys.path while we load stuff.\n"
     ]
    },
    {
     "data": {
      "text/html": [
       "<style  type=\"text/css\" >\n",
       "</style><table id=\"T_dabb2950_8691_11ea_8fe5_50de06c7c5d4\" ><thead>    <tr>        <th class=\"blank level0\" ></th>        <th class=\"col_heading level0 col0\" >Total Count</th>        <th class=\"col_heading level0 col1\" >Percentage of Players</th>    </tr></thead><tbody>\n",
       "                <tr>\n",
       "                        <th id=\"T_dabb2950_8691_11ea_8fe5_50de06c7c5d4level0_row0\" class=\"row_heading level0 row0\" ><10</th>\n",
       "                        <td id=\"T_dabb2950_8691_11ea_8fe5_50de06c7c5d4row0_col0\" class=\"data row0 col0\" >17</td>\n",
       "                        <td id=\"T_dabb2950_8691_11ea_8fe5_50de06c7c5d4row0_col1\" class=\"data row0 col1\" >2.95%</td>\n",
       "            </tr>\n",
       "            <tr>\n",
       "                        <th id=\"T_dabb2950_8691_11ea_8fe5_50de06c7c5d4level0_row1\" class=\"row_heading level0 row1\" >10-14</th>\n",
       "                        <td id=\"T_dabb2950_8691_11ea_8fe5_50de06c7c5d4row1_col0\" class=\"data row1 col0\" >22</td>\n",
       "                        <td id=\"T_dabb2950_8691_11ea_8fe5_50de06c7c5d4row1_col1\" class=\"data row1 col1\" >3.82%</td>\n",
       "            </tr>\n",
       "            <tr>\n",
       "                        <th id=\"T_dabb2950_8691_11ea_8fe5_50de06c7c5d4level0_row2\" class=\"row_heading level0 row2\" >15-19</th>\n",
       "                        <td id=\"T_dabb2950_8691_11ea_8fe5_50de06c7c5d4row2_col0\" class=\"data row2 col0\" >107</td>\n",
       "                        <td id=\"T_dabb2950_8691_11ea_8fe5_50de06c7c5d4row2_col1\" class=\"data row2 col1\" >18.58%</td>\n",
       "            </tr>\n",
       "            <tr>\n",
       "                        <th id=\"T_dabb2950_8691_11ea_8fe5_50de06c7c5d4level0_row3\" class=\"row_heading level0 row3\" >20-24</th>\n",
       "                        <td id=\"T_dabb2950_8691_11ea_8fe5_50de06c7c5d4row3_col0\" class=\"data row3 col0\" >258</td>\n",
       "                        <td id=\"T_dabb2950_8691_11ea_8fe5_50de06c7c5d4row3_col1\" class=\"data row3 col1\" >44.79%</td>\n",
       "            </tr>\n",
       "            <tr>\n",
       "                        <th id=\"T_dabb2950_8691_11ea_8fe5_50de06c7c5d4level0_row4\" class=\"row_heading level0 row4\" >25-29</th>\n",
       "                        <td id=\"T_dabb2950_8691_11ea_8fe5_50de06c7c5d4row4_col0\" class=\"data row4 col0\" >77</td>\n",
       "                        <td id=\"T_dabb2950_8691_11ea_8fe5_50de06c7c5d4row4_col1\" class=\"data row4 col1\" >13.37%</td>\n",
       "            </tr>\n",
       "            <tr>\n",
       "                        <th id=\"T_dabb2950_8691_11ea_8fe5_50de06c7c5d4level0_row5\" class=\"row_heading level0 row5\" >30-34</th>\n",
       "                        <td id=\"T_dabb2950_8691_11ea_8fe5_50de06c7c5d4row5_col0\" class=\"data row5 col0\" >52</td>\n",
       "                        <td id=\"T_dabb2950_8691_11ea_8fe5_50de06c7c5d4row5_col1\" class=\"data row5 col1\" >9.03%</td>\n",
       "            </tr>\n",
       "            <tr>\n",
       "                        <th id=\"T_dabb2950_8691_11ea_8fe5_50de06c7c5d4level0_row6\" class=\"row_heading level0 row6\" >35-39</th>\n",
       "                        <td id=\"T_dabb2950_8691_11ea_8fe5_50de06c7c5d4row6_col0\" class=\"data row6 col0\" >31</td>\n",
       "                        <td id=\"T_dabb2950_8691_11ea_8fe5_50de06c7c5d4row6_col1\" class=\"data row6 col1\" >5.38%</td>\n",
       "            </tr>\n",
       "            <tr>\n",
       "                        <th id=\"T_dabb2950_8691_11ea_8fe5_50de06c7c5d4level0_row7\" class=\"row_heading level0 row7\" >40+</th>\n",
       "                        <td id=\"T_dabb2950_8691_11ea_8fe5_50de06c7c5d4row7_col0\" class=\"data row7 col0\" >12</td>\n",
       "                        <td id=\"T_dabb2950_8691_11ea_8fe5_50de06c7c5d4row7_col1\" class=\"data row7 col1\" >2.08%</td>\n",
       "            </tr>\n",
       "    </tbody></table>"
      ],
      "text/plain": [
       "<pandas.io.formats.style.Styler at 0x120a64390>"
      ]
     },
     "execution_count": 7,
     "metadata": {},
     "output_type": "execute_result"
    }
   ],
   "source": [
    "# Establish bins and group names for ages\n",
    "bins_to_cut = [0, 9.9, 14, 19, 24, 29, 34, 39, 100]\n",
    "group_names = [\"<10\", \"10-14\", \"15-19\", \"20-24\", \"25-29\", \"30-34\", \"35-39\", \"40+\"]\n",
    "\n",
    "# Categorize players into age bins\n",
    "unique_players_df[\"Age Groups\"] = pd.cut(\n",
    "    x=unique_players_df[\"Age\"],\n",
    "    bins=bins_to_cut,\n",
    "    labels=group_names,\n",
    "    include_lowest=True)\n",
    "\n",
    "# Run calculations for total count of players and percentage of players by age groups \n",
    "total_count_age = unique_players_df[\"Age Groups\"].value_counts()\n",
    "percentage_players_age = (unique_players_df[\"Age Groups\"].value_counts() / len(unique_players_df)) * 100\n",
    "\n",
    "# Create data frame to hold results\n",
    "age_summary_df = pd.DataFrame({\n",
    "    \"Total Count\": total_count_age,\n",
    "    \"Percentage of Players\": percentage_players_age})\n",
    "                  \n",
    "# Sort data by age groups\n",
    "age_sorted_df = age_summary_df.sort_index(ascending=True)\n",
    "\n",
    "# Display data in cleaner format\n",
    "age_sorted_df.style.format({\n",
    "    \"Percentage of Players\": \"{:.2f}%\"})\n"
   ]
  },
  {
   "cell_type": "markdown",
   "metadata": {},
   "source": [
    "## Purchasing Analysis (Age)"
   ]
  },
  {
   "cell_type": "markdown",
   "metadata": {},
   "source": [
    "* Bin the purchase_data data frame by age\n",
    "\n",
    "\n",
    "* Run basic calculations to obtain purchase count, avg. purchase price, avg. purchase total per person etc. in the table below\n",
    "\n",
    "\n",
    "* Create a summary data frame to hold the results\n",
    "\n",
    "\n",
    "* Optional: give the displayed data cleaner formatting\n",
    "\n",
    "\n",
    "* Display the summary data frame"
   ]
  },
  {
   "cell_type": "code",
   "execution_count": 8,
   "metadata": {},
   "outputs": [
    {
     "data": {
      "text/html": [
       "<style  type=\"text/css\" >\n",
       "</style><table id=\"T_db5c060e_8691_11ea_8fe5_50de06c7c5d4\" ><thead>    <tr>        <th class=\"blank level0\" ></th>        <th class=\"col_heading level0 col0\" >Purchase Count</th>        <th class=\"col_heading level0 col1\" >Average Purchase Price</th>        <th class=\"col_heading level0 col2\" >Total Purchase Value</th>        <th class=\"col_heading level0 col3\" >Avg Total Purchase per Person</th>    </tr>    <tr>        <th class=\"index_name level0\" >Age Groups</th>        <th class=\"blank\" ></th>        <th class=\"blank\" ></th>        <th class=\"blank\" ></th>        <th class=\"blank\" ></th>    </tr></thead><tbody>\n",
       "                <tr>\n",
       "                        <th id=\"T_db5c060e_8691_11ea_8fe5_50de06c7c5d4level0_row0\" class=\"row_heading level0 row0\" ><10</th>\n",
       "                        <td id=\"T_db5c060e_8691_11ea_8fe5_50de06c7c5d4row0_col0\" class=\"data row0 col0\" >23</td>\n",
       "                        <td id=\"T_db5c060e_8691_11ea_8fe5_50de06c7c5d4row0_col1\" class=\"data row0 col1\" >$3.35</td>\n",
       "                        <td id=\"T_db5c060e_8691_11ea_8fe5_50de06c7c5d4row0_col2\" class=\"data row0 col2\" >$77.13</td>\n",
       "                        <td id=\"T_db5c060e_8691_11ea_8fe5_50de06c7c5d4row0_col3\" class=\"data row0 col3\" >$4.54</td>\n",
       "            </tr>\n",
       "            <tr>\n",
       "                        <th id=\"T_db5c060e_8691_11ea_8fe5_50de06c7c5d4level0_row1\" class=\"row_heading level0 row1\" >10-14</th>\n",
       "                        <td id=\"T_db5c060e_8691_11ea_8fe5_50de06c7c5d4row1_col0\" class=\"data row1 col0\" >28</td>\n",
       "                        <td id=\"T_db5c060e_8691_11ea_8fe5_50de06c7c5d4row1_col1\" class=\"data row1 col1\" >$2.96</td>\n",
       "                        <td id=\"T_db5c060e_8691_11ea_8fe5_50de06c7c5d4row1_col2\" class=\"data row1 col2\" >$82.78</td>\n",
       "                        <td id=\"T_db5c060e_8691_11ea_8fe5_50de06c7c5d4row1_col3\" class=\"data row1 col3\" >$3.76</td>\n",
       "            </tr>\n",
       "            <tr>\n",
       "                        <th id=\"T_db5c060e_8691_11ea_8fe5_50de06c7c5d4level0_row2\" class=\"row_heading level0 row2\" >15-19</th>\n",
       "                        <td id=\"T_db5c060e_8691_11ea_8fe5_50de06c7c5d4row2_col0\" class=\"data row2 col0\" >136</td>\n",
       "                        <td id=\"T_db5c060e_8691_11ea_8fe5_50de06c7c5d4row2_col1\" class=\"data row2 col1\" >$3.04</td>\n",
       "                        <td id=\"T_db5c060e_8691_11ea_8fe5_50de06c7c5d4row2_col2\" class=\"data row2 col2\" >$412.89</td>\n",
       "                        <td id=\"T_db5c060e_8691_11ea_8fe5_50de06c7c5d4row2_col3\" class=\"data row2 col3\" >$3.86</td>\n",
       "            </tr>\n",
       "            <tr>\n",
       "                        <th id=\"T_db5c060e_8691_11ea_8fe5_50de06c7c5d4level0_row3\" class=\"row_heading level0 row3\" >20-24</th>\n",
       "                        <td id=\"T_db5c060e_8691_11ea_8fe5_50de06c7c5d4row3_col0\" class=\"data row3 col0\" >365</td>\n",
       "                        <td id=\"T_db5c060e_8691_11ea_8fe5_50de06c7c5d4row3_col1\" class=\"data row3 col1\" >$3.05</td>\n",
       "                        <td id=\"T_db5c060e_8691_11ea_8fe5_50de06c7c5d4row3_col2\" class=\"data row3 col2\" >$1114.06</td>\n",
       "                        <td id=\"T_db5c060e_8691_11ea_8fe5_50de06c7c5d4row3_col3\" class=\"data row3 col3\" >$4.32</td>\n",
       "            </tr>\n",
       "            <tr>\n",
       "                        <th id=\"T_db5c060e_8691_11ea_8fe5_50de06c7c5d4level0_row4\" class=\"row_heading level0 row4\" >25-29</th>\n",
       "                        <td id=\"T_db5c060e_8691_11ea_8fe5_50de06c7c5d4row4_col0\" class=\"data row4 col0\" >101</td>\n",
       "                        <td id=\"T_db5c060e_8691_11ea_8fe5_50de06c7c5d4row4_col1\" class=\"data row4 col1\" >$2.90</td>\n",
       "                        <td id=\"T_db5c060e_8691_11ea_8fe5_50de06c7c5d4row4_col2\" class=\"data row4 col2\" >$293.00</td>\n",
       "                        <td id=\"T_db5c060e_8691_11ea_8fe5_50de06c7c5d4row4_col3\" class=\"data row4 col3\" >$3.81</td>\n",
       "            </tr>\n",
       "            <tr>\n",
       "                        <th id=\"T_db5c060e_8691_11ea_8fe5_50de06c7c5d4level0_row5\" class=\"row_heading level0 row5\" >30-34</th>\n",
       "                        <td id=\"T_db5c060e_8691_11ea_8fe5_50de06c7c5d4row5_col0\" class=\"data row5 col0\" >73</td>\n",
       "                        <td id=\"T_db5c060e_8691_11ea_8fe5_50de06c7c5d4row5_col1\" class=\"data row5 col1\" >$2.93</td>\n",
       "                        <td id=\"T_db5c060e_8691_11ea_8fe5_50de06c7c5d4row5_col2\" class=\"data row5 col2\" >$214.00</td>\n",
       "                        <td id=\"T_db5c060e_8691_11ea_8fe5_50de06c7c5d4row5_col3\" class=\"data row5 col3\" >$4.12</td>\n",
       "            </tr>\n",
       "            <tr>\n",
       "                        <th id=\"T_db5c060e_8691_11ea_8fe5_50de06c7c5d4level0_row6\" class=\"row_heading level0 row6\" >35-39</th>\n",
       "                        <td id=\"T_db5c060e_8691_11ea_8fe5_50de06c7c5d4row6_col0\" class=\"data row6 col0\" >41</td>\n",
       "                        <td id=\"T_db5c060e_8691_11ea_8fe5_50de06c7c5d4row6_col1\" class=\"data row6 col1\" >$3.60</td>\n",
       "                        <td id=\"T_db5c060e_8691_11ea_8fe5_50de06c7c5d4row6_col2\" class=\"data row6 col2\" >$147.67</td>\n",
       "                        <td id=\"T_db5c060e_8691_11ea_8fe5_50de06c7c5d4row6_col3\" class=\"data row6 col3\" >$4.76</td>\n",
       "            </tr>\n",
       "            <tr>\n",
       "                        <th id=\"T_db5c060e_8691_11ea_8fe5_50de06c7c5d4level0_row7\" class=\"row_heading level0 row7\" >40+</th>\n",
       "                        <td id=\"T_db5c060e_8691_11ea_8fe5_50de06c7c5d4row7_col0\" class=\"data row7 col0\" >13</td>\n",
       "                        <td id=\"T_db5c060e_8691_11ea_8fe5_50de06c7c5d4row7_col1\" class=\"data row7 col1\" >$2.94</td>\n",
       "                        <td id=\"T_db5c060e_8691_11ea_8fe5_50de06c7c5d4row7_col2\" class=\"data row7 col2\" >$38.24</td>\n",
       "                        <td id=\"T_db5c060e_8691_11ea_8fe5_50de06c7c5d4row7_col3\" class=\"data row7 col3\" >$3.19</td>\n",
       "            </tr>\n",
       "    </tbody></table>"
      ],
      "text/plain": [
       "<pandas.io.formats.style.Styler at 0x12015f910>"
      ]
     },
     "execution_count": 8,
     "metadata": {},
     "output_type": "execute_result"
    }
   ],
   "source": [
    "# Categorize purchases into age bins\n",
    "purchase_raw_df[\"Age Groups\"] = pd.cut(\n",
    "    x=purchase_raw_df[\"Age\"],\n",
    "    bins=bins_to_cut,\n",
    "    labels=group_names,\n",
    "    include_lowest=True)\n",
    "\n",
    "# Create data frame of purchases grouped by age groups\n",
    "age_groupby_df = purchase_raw_df.groupby([\"Age Groups\"])\n",
    "\n",
    "# Run calculations for purchase counts, avg purchase, total purchase, avg purchase per person by age groups\n",
    "purchase_count_age = age_groupby_df[\"Purchase ID\"].count()\n",
    "avg_purchase_age = age_groupby_df[\"Price\"].mean()\n",
    "total_purchase_age = age_groupby_df[\"Price\"].sum()\n",
    "total_age_count = age_groupby_df.nunique()[\"SN\"]\n",
    "avg_purchase_person_age = total_purchase_age / total_age_count\n",
    "\n",
    "# Create data frame to hold results\n",
    "purchasing_age_summary_df = pd.DataFrame({\n",
    "    \"Purchase Count\": purchase_count_age,\n",
    "    \"Average Purchase Price\": avg_purchase_age,\n",
    "    \"Total Purchase Value\": total_purchase_age,\n",
    "    \"Avg Total Purchase per Person\": avg_purchase_person_age})\n",
    "\n",
    "# Sort data by age groups\n",
    "purchasing_age_sorted_df = purchasing_age_summary_df.sort_index(ascending=True)\n",
    "\n",
    "# Display data in cleaner format\n",
    "purchasing_age_sorted_df.style.format({\n",
    "    \"Average Purchase Price\": \"${:.2f}\",\n",
    "    \"Total Purchase Value\": \"${:.2f}\",\n",
    "    \"Avg Total Purchase per Person\": \"${:.2f}\"})\n",
    "\n",
    "\n"
   ]
  },
  {
   "cell_type": "markdown",
   "metadata": {},
   "source": [
    "## Top Spenders"
   ]
  },
  {
   "cell_type": "markdown",
   "metadata": {},
   "source": [
    "* Run basic calculations to obtain the results in the table below\n",
    "\n",
    "\n",
    "* Create a summary data frame to hold the results\n",
    "\n",
    "\n",
    "* Sort the total purchase value column in descending order\n",
    "\n",
    "\n",
    "* Optional: give the displayed data cleaner formatting\n",
    "\n",
    "\n",
    "* Display a preview of the summary data frame\n",
    "\n"
   ]
  },
  {
   "cell_type": "code",
   "execution_count": 12,
   "metadata": {},
   "outputs": [
    {
     "data": {
      "text/html": [
       "<style  type=\"text/css\" >\n",
       "</style><table id=\"T_01fb6372_8692_11ea_8fe5_50de06c7c5d4\" ><thead>    <tr>        <th class=\"blank level0\" ></th>        <th class=\"col_heading level0 col0\" >Purchase Count</th>        <th class=\"col_heading level0 col1\" >Average Purchase Price</th>        <th class=\"col_heading level0 col2\" >Total Purchase Value</th>    </tr>    <tr>        <th class=\"index_name level0\" >SN</th>        <th class=\"blank\" ></th>        <th class=\"blank\" ></th>        <th class=\"blank\" ></th>    </tr></thead><tbody>\n",
       "                <tr>\n",
       "                        <th id=\"T_01fb6372_8692_11ea_8fe5_50de06c7c5d4level0_row0\" class=\"row_heading level0 row0\" >Lisosia93</th>\n",
       "                        <td id=\"T_01fb6372_8692_11ea_8fe5_50de06c7c5d4row0_col0\" class=\"data row0 col0\" >5</td>\n",
       "                        <td id=\"T_01fb6372_8692_11ea_8fe5_50de06c7c5d4row0_col1\" class=\"data row0 col1\" >$3.79</td>\n",
       "                        <td id=\"T_01fb6372_8692_11ea_8fe5_50de06c7c5d4row0_col2\" class=\"data row0 col2\" >$18.96</td>\n",
       "            </tr>\n",
       "            <tr>\n",
       "                        <th id=\"T_01fb6372_8692_11ea_8fe5_50de06c7c5d4level0_row1\" class=\"row_heading level0 row1\" >Idastidru52</th>\n",
       "                        <td id=\"T_01fb6372_8692_11ea_8fe5_50de06c7c5d4row1_col0\" class=\"data row1 col0\" >4</td>\n",
       "                        <td id=\"T_01fb6372_8692_11ea_8fe5_50de06c7c5d4row1_col1\" class=\"data row1 col1\" >$3.86</td>\n",
       "                        <td id=\"T_01fb6372_8692_11ea_8fe5_50de06c7c5d4row1_col2\" class=\"data row1 col2\" >$15.45</td>\n",
       "            </tr>\n",
       "            <tr>\n",
       "                        <th id=\"T_01fb6372_8692_11ea_8fe5_50de06c7c5d4level0_row2\" class=\"row_heading level0 row2\" >Chamjask73</th>\n",
       "                        <td id=\"T_01fb6372_8692_11ea_8fe5_50de06c7c5d4row2_col0\" class=\"data row2 col0\" >3</td>\n",
       "                        <td id=\"T_01fb6372_8692_11ea_8fe5_50de06c7c5d4row2_col1\" class=\"data row2 col1\" >$4.61</td>\n",
       "                        <td id=\"T_01fb6372_8692_11ea_8fe5_50de06c7c5d4row2_col2\" class=\"data row2 col2\" >$13.83</td>\n",
       "            </tr>\n",
       "            <tr>\n",
       "                        <th id=\"T_01fb6372_8692_11ea_8fe5_50de06c7c5d4level0_row3\" class=\"row_heading level0 row3\" >Iral74</th>\n",
       "                        <td id=\"T_01fb6372_8692_11ea_8fe5_50de06c7c5d4row3_col0\" class=\"data row3 col0\" >4</td>\n",
       "                        <td id=\"T_01fb6372_8692_11ea_8fe5_50de06c7c5d4row3_col1\" class=\"data row3 col1\" >$3.40</td>\n",
       "                        <td id=\"T_01fb6372_8692_11ea_8fe5_50de06c7c5d4row3_col2\" class=\"data row3 col2\" >$13.62</td>\n",
       "            </tr>\n",
       "            <tr>\n",
       "                        <th id=\"T_01fb6372_8692_11ea_8fe5_50de06c7c5d4level0_row4\" class=\"row_heading level0 row4\" >Iskadarya95</th>\n",
       "                        <td id=\"T_01fb6372_8692_11ea_8fe5_50de06c7c5d4row4_col0\" class=\"data row4 col0\" >3</td>\n",
       "                        <td id=\"T_01fb6372_8692_11ea_8fe5_50de06c7c5d4row4_col1\" class=\"data row4 col1\" >$4.37</td>\n",
       "                        <td id=\"T_01fb6372_8692_11ea_8fe5_50de06c7c5d4row4_col2\" class=\"data row4 col2\" >$13.10</td>\n",
       "            </tr>\n",
       "    </tbody></table>"
      ],
      "text/plain": [
       "<pandas.io.formats.style.Styler at 0x1212ecd90>"
      ]
     },
     "execution_count": 12,
     "metadata": {},
     "output_type": "execute_result"
    }
   ],
   "source": [
    "# Create data frame of purchases grouped by players\n",
    "player_groupby_df = purchase_raw_df.groupby([\"SN\"])\n",
    "\n",
    "# Run calculations for purchase count, avg purchase, total purchase by spender\n",
    "purchase_count_spender = player_groupby_df[\"Purchase ID\"].count()\n",
    "avg_purchase_spender = player_groupby_df[\"Price\"].mean()\n",
    "total_purchase_spender = player_groupby_df[\"Price\"].sum()\n",
    "\n",
    "# Create data frame to hold results\n",
    "top_spenders_summary_df = pd.DataFrame({\n",
    "    \"Purchase Count\": purchase_count_spender,\n",
    "    \"Average Purchase Price\": avg_purchase_spender,\n",
    "    \"Total Purchase Value\": total_purchase_spender})\n",
    "\n",
    "# Sort data by total purchase value\n",
    "top_spenders_sorted_df = top_spenders_summary_df.sort_values([\"Total Purchase Value\"], ascending=False).head()\n",
    "\n",
    "# Display data in cleaner format\n",
    "top_spenders_sorted_df.style.format({\n",
    "    \"Average Purchase Price\": \"${:.2f}\",\n",
    "    \"Total Purchase Value\": \"${:.2f}\"})\n"
   ]
  },
  {
   "cell_type": "markdown",
   "metadata": {},
   "source": [
    "## Most Popular Items"
   ]
  },
  {
   "cell_type": "markdown",
   "metadata": {},
   "source": [
    "* Retrieve the Item ID, Item Name, and Item Price columns\n",
    "\n",
    "\n",
    "* Group by Item ID and Item Name. Perform calculations to obtain purchase count, item price, and total purchase value\n",
    "\n",
    "\n",
    "* Create a summary data frame to hold the results\n",
    "\n",
    "\n",
    "* Sort the purchase count column in descending order\n",
    "\n",
    "\n",
    "* Optional: give the displayed data cleaner formatting\n",
    "\n",
    "\n",
    "* Display a preview of the summary data frame\n",
    "\n"
   ]
  },
  {
   "cell_type": "code",
   "execution_count": 10,
   "metadata": {},
   "outputs": [
    {
     "data": {
      "text/html": [
       "<style  type=\"text/css\" >\n",
       "</style><table id=\"T_dce5e72e_8691_11ea_8fe5_50de06c7c5d4\" ><thead>    <tr>        <th class=\"blank\" ></th>        <th class=\"blank level0\" ></th>        <th class=\"col_heading level0 col0\" >Purchase Count</th>        <th class=\"col_heading level0 col1\" >Item Price</th>        <th class=\"col_heading level0 col2\" >Total Purchase Value</th>    </tr>    <tr>        <th class=\"index_name level0\" >Item ID</th>        <th class=\"index_name level1\" >Item Name</th>        <th class=\"blank\" ></th>        <th class=\"blank\" ></th>        <th class=\"blank\" ></th>    </tr></thead><tbody>\n",
       "                <tr>\n",
       "                        <th id=\"T_dce5e72e_8691_11ea_8fe5_50de06c7c5d4level0_row0\" class=\"row_heading level0 row0\" >92</th>\n",
       "                        <th id=\"T_dce5e72e_8691_11ea_8fe5_50de06c7c5d4level1_row0\" class=\"row_heading level1 row0\" >Final Critic</th>\n",
       "                        <td id=\"T_dce5e72e_8691_11ea_8fe5_50de06c7c5d4row0_col0\" class=\"data row0 col0\" >13</td>\n",
       "                        <td id=\"T_dce5e72e_8691_11ea_8fe5_50de06c7c5d4row0_col1\" class=\"data row0 col1\" >$4.61</td>\n",
       "                        <td id=\"T_dce5e72e_8691_11ea_8fe5_50de06c7c5d4row0_col2\" class=\"data row0 col2\" >$59.99</td>\n",
       "            </tr>\n",
       "            <tr>\n",
       "                        <th id=\"T_dce5e72e_8691_11ea_8fe5_50de06c7c5d4level0_row1\" class=\"row_heading level0 row1\" >178</th>\n",
       "                        <th id=\"T_dce5e72e_8691_11ea_8fe5_50de06c7c5d4level1_row1\" class=\"row_heading level1 row1\" >Oathbreaker, Last Hope of the Breaking Storm</th>\n",
       "                        <td id=\"T_dce5e72e_8691_11ea_8fe5_50de06c7c5d4row1_col0\" class=\"data row1 col0\" >12</td>\n",
       "                        <td id=\"T_dce5e72e_8691_11ea_8fe5_50de06c7c5d4row1_col1\" class=\"data row1 col1\" >$4.23</td>\n",
       "                        <td id=\"T_dce5e72e_8691_11ea_8fe5_50de06c7c5d4row1_col2\" class=\"data row1 col2\" >$50.76</td>\n",
       "            </tr>\n",
       "            <tr>\n",
       "                        <th id=\"T_dce5e72e_8691_11ea_8fe5_50de06c7c5d4level0_row2\" class=\"row_heading level0 row2\" >145</th>\n",
       "                        <th id=\"T_dce5e72e_8691_11ea_8fe5_50de06c7c5d4level1_row2\" class=\"row_heading level1 row2\" >Fiery Glass Crusader</th>\n",
       "                        <td id=\"T_dce5e72e_8691_11ea_8fe5_50de06c7c5d4row2_col0\" class=\"data row2 col0\" >9</td>\n",
       "                        <td id=\"T_dce5e72e_8691_11ea_8fe5_50de06c7c5d4row2_col1\" class=\"data row2 col1\" >$4.58</td>\n",
       "                        <td id=\"T_dce5e72e_8691_11ea_8fe5_50de06c7c5d4row2_col2\" class=\"data row2 col2\" >$41.22</td>\n",
       "            </tr>\n",
       "            <tr>\n",
       "                        <th id=\"T_dce5e72e_8691_11ea_8fe5_50de06c7c5d4level0_row3\" class=\"row_heading level0 row3\" >132</th>\n",
       "                        <th id=\"T_dce5e72e_8691_11ea_8fe5_50de06c7c5d4level1_row3\" class=\"row_heading level1 row3\" >Persuasion</th>\n",
       "                        <td id=\"T_dce5e72e_8691_11ea_8fe5_50de06c7c5d4row3_col0\" class=\"data row3 col0\" >9</td>\n",
       "                        <td id=\"T_dce5e72e_8691_11ea_8fe5_50de06c7c5d4row3_col1\" class=\"data row3 col1\" >$3.22</td>\n",
       "                        <td id=\"T_dce5e72e_8691_11ea_8fe5_50de06c7c5d4row3_col2\" class=\"data row3 col2\" >$28.99</td>\n",
       "            </tr>\n",
       "            <tr>\n",
       "                        <th id=\"T_dce5e72e_8691_11ea_8fe5_50de06c7c5d4level0_row4\" class=\"row_heading level0 row4\" >108</th>\n",
       "                        <th id=\"T_dce5e72e_8691_11ea_8fe5_50de06c7c5d4level1_row4\" class=\"row_heading level1 row4\" >Extraction, Quickblade Of Trembling Hands</th>\n",
       "                        <td id=\"T_dce5e72e_8691_11ea_8fe5_50de06c7c5d4row4_col0\" class=\"data row4 col0\" >9</td>\n",
       "                        <td id=\"T_dce5e72e_8691_11ea_8fe5_50de06c7c5d4row4_col1\" class=\"data row4 col1\" >$3.53</td>\n",
       "                        <td id=\"T_dce5e72e_8691_11ea_8fe5_50de06c7c5d4row4_col2\" class=\"data row4 col2\" >$31.77</td>\n",
       "            </tr>\n",
       "    </tbody></table>"
      ],
      "text/plain": [
       "<pandas.io.formats.style.Styler at 0x1214cc150>"
      ]
     },
     "execution_count": 10,
     "metadata": {},
     "output_type": "execute_result"
    }
   ],
   "source": [
    "# Create data frame of purchases grouped by item ID and item name\n",
    "popular_items_df = purchase_raw_df[[\"Item ID\", \"Item Name\", \"Price\"]]\n",
    "popular_groupby_df = popular_items_df.groupby([\"Item ID\", \"Item Name\"])\n",
    "\n",
    "# Run calculations for purchase count, total purchases and item price\n",
    "purchase_count_popular = popular_groupby_df[\"Price\"].count()\n",
    "total_purchase_popular = popular_groupby_df[\"Price\"].sum()\n",
    "item_price_popular = total_purchase_popular / purchase_count_popular\n",
    "\n",
    "# Create data frame to hold results\n",
    "popular_item_summary = pd.DataFrame({\n",
    "    \"Purchase Count\": purchase_count_popular,\n",
    "    \"Item Price\": item_price_popular,\n",
    "    \"Total Purchase Value\": total_purchase_popular})\n",
    "\n",
    "# Sort data by purchase count\n",
    "popular_item_sorted = popular_item_summary.sort_values([\"Purchase Count\"], ascending=False).head()\n",
    "\n",
    "# Display data in cleaner format\n",
    "popular_item_sorted.style.format({\n",
    "    \"Item Price\": \"${:.2f}\",\n",
    "    \"Total Purchase Value\": \"${:.2f}\"})\n",
    "\n"
   ]
  },
  {
   "cell_type": "markdown",
   "metadata": {},
   "source": [
    "## Most Profitable Items"
   ]
  },
  {
   "cell_type": "markdown",
   "metadata": {},
   "source": [
    "* Sort the above table by total purchase value in descending order\n",
    "\n",
    "\n",
    "* Optional: give the displayed data cleaner formatting\n",
    "\n",
    "\n",
    "* Display a preview of the data frame\n",
    "\n"
   ]
  },
  {
   "cell_type": "code",
   "execution_count": 11,
   "metadata": {
    "scrolled": true
   },
   "outputs": [
    {
     "data": {
      "text/html": [
       "<style  type=\"text/css\" >\n",
       "</style><table id=\"T_dd60653a_8691_11ea_8fe5_50de06c7c5d4\" ><thead>    <tr>        <th class=\"blank\" ></th>        <th class=\"blank level0\" ></th>        <th class=\"col_heading level0 col0\" >Purchase Count</th>        <th class=\"col_heading level0 col1\" >Item Price</th>        <th class=\"col_heading level0 col2\" >Total Purchase Value</th>    </tr>    <tr>        <th class=\"index_name level0\" >Item ID</th>        <th class=\"index_name level1\" >Item Name</th>        <th class=\"blank\" ></th>        <th class=\"blank\" ></th>        <th class=\"blank\" ></th>    </tr></thead><tbody>\n",
       "                <tr>\n",
       "                        <th id=\"T_dd60653a_8691_11ea_8fe5_50de06c7c5d4level0_row0\" class=\"row_heading level0 row0\" >92</th>\n",
       "                        <th id=\"T_dd60653a_8691_11ea_8fe5_50de06c7c5d4level1_row0\" class=\"row_heading level1 row0\" >Final Critic</th>\n",
       "                        <td id=\"T_dd60653a_8691_11ea_8fe5_50de06c7c5d4row0_col0\" class=\"data row0 col0\" >13</td>\n",
       "                        <td id=\"T_dd60653a_8691_11ea_8fe5_50de06c7c5d4row0_col1\" class=\"data row0 col1\" >$4.61</td>\n",
       "                        <td id=\"T_dd60653a_8691_11ea_8fe5_50de06c7c5d4row0_col2\" class=\"data row0 col2\" >$59.99</td>\n",
       "            </tr>\n",
       "            <tr>\n",
       "                        <th id=\"T_dd60653a_8691_11ea_8fe5_50de06c7c5d4level0_row1\" class=\"row_heading level0 row1\" >178</th>\n",
       "                        <th id=\"T_dd60653a_8691_11ea_8fe5_50de06c7c5d4level1_row1\" class=\"row_heading level1 row1\" >Oathbreaker, Last Hope of the Breaking Storm</th>\n",
       "                        <td id=\"T_dd60653a_8691_11ea_8fe5_50de06c7c5d4row1_col0\" class=\"data row1 col0\" >12</td>\n",
       "                        <td id=\"T_dd60653a_8691_11ea_8fe5_50de06c7c5d4row1_col1\" class=\"data row1 col1\" >$4.23</td>\n",
       "                        <td id=\"T_dd60653a_8691_11ea_8fe5_50de06c7c5d4row1_col2\" class=\"data row1 col2\" >$50.76</td>\n",
       "            </tr>\n",
       "            <tr>\n",
       "                        <th id=\"T_dd60653a_8691_11ea_8fe5_50de06c7c5d4level0_row2\" class=\"row_heading level0 row2\" >82</th>\n",
       "                        <th id=\"T_dd60653a_8691_11ea_8fe5_50de06c7c5d4level1_row2\" class=\"row_heading level1 row2\" >Nirvana</th>\n",
       "                        <td id=\"T_dd60653a_8691_11ea_8fe5_50de06c7c5d4row2_col0\" class=\"data row2 col0\" >9</td>\n",
       "                        <td id=\"T_dd60653a_8691_11ea_8fe5_50de06c7c5d4row2_col1\" class=\"data row2 col1\" >$4.90</td>\n",
       "                        <td id=\"T_dd60653a_8691_11ea_8fe5_50de06c7c5d4row2_col2\" class=\"data row2 col2\" >$44.10</td>\n",
       "            </tr>\n",
       "            <tr>\n",
       "                        <th id=\"T_dd60653a_8691_11ea_8fe5_50de06c7c5d4level0_row3\" class=\"row_heading level0 row3\" >145</th>\n",
       "                        <th id=\"T_dd60653a_8691_11ea_8fe5_50de06c7c5d4level1_row3\" class=\"row_heading level1 row3\" >Fiery Glass Crusader</th>\n",
       "                        <td id=\"T_dd60653a_8691_11ea_8fe5_50de06c7c5d4row3_col0\" class=\"data row3 col0\" >9</td>\n",
       "                        <td id=\"T_dd60653a_8691_11ea_8fe5_50de06c7c5d4row3_col1\" class=\"data row3 col1\" >$4.58</td>\n",
       "                        <td id=\"T_dd60653a_8691_11ea_8fe5_50de06c7c5d4row3_col2\" class=\"data row3 col2\" >$41.22</td>\n",
       "            </tr>\n",
       "            <tr>\n",
       "                        <th id=\"T_dd60653a_8691_11ea_8fe5_50de06c7c5d4level0_row4\" class=\"row_heading level0 row4\" >103</th>\n",
       "                        <th id=\"T_dd60653a_8691_11ea_8fe5_50de06c7c5d4level1_row4\" class=\"row_heading level1 row4\" >Singed Scalpel</th>\n",
       "                        <td id=\"T_dd60653a_8691_11ea_8fe5_50de06c7c5d4row4_col0\" class=\"data row4 col0\" >8</td>\n",
       "                        <td id=\"T_dd60653a_8691_11ea_8fe5_50de06c7c5d4row4_col1\" class=\"data row4 col1\" >$4.35</td>\n",
       "                        <td id=\"T_dd60653a_8691_11ea_8fe5_50de06c7c5d4row4_col2\" class=\"data row4 col2\" >$34.80</td>\n",
       "            </tr>\n",
       "    </tbody></table>"
      ],
      "text/plain": [
       "<pandas.io.formats.style.Styler at 0x121474090>"
      ]
     },
     "execution_count": 11,
     "metadata": {},
     "output_type": "execute_result"
    }
   ],
   "source": [
    "# Sort data by total purchase value\n",
    "profitable_item_sorted = popular_item_summary.sort_values([\"Total Purchase Value\"], ascending=False).head()\n",
    "\n",
    "# Display data in cleaner format\n",
    "profitable_item_sorted.style.format({\n",
    "    \"Item Price\": \"${:.2f}\",\n",
    "    \"Total Purchase Value\": \"${:.2f}\"})"
   ]
  },
  {
   "cell_type": "code",
   "execution_count": null,
   "metadata": {},
   "outputs": [],
   "source": []
  },
  {
   "cell_type": "code",
   "execution_count": null,
   "metadata": {},
   "outputs": [],
   "source": []
  }
 ],
 "metadata": {
  "anaconda-cloud": {},
  "kernel_info": {
   "name": "python3"
  },
  "kernelspec": {
   "display_name": "Python 3",
   "language": "python",
   "name": "python3"
  },
  "language_info": {
   "codemirror_mode": {
    "name": "ipython",
    "version": 3
   },
   "file_extension": ".py",
   "mimetype": "text/x-python",
   "name": "python",
   "nbconvert_exporter": "python",
   "pygments_lexer": "ipython3",
   "version": "3.7.6"
  },
  "latex_envs": {
   "LaTeX_envs_menu_present": true,
   "autoclose": false,
   "autocomplete": true,
   "bibliofile": "biblio.bib",
   "cite_by": "apalike",
   "current_citInitial": 1,
   "eqLabelWithNumbers": true,
   "eqNumInitial": 1,
   "hotkeys": {
    "equation": "Ctrl-E",
    "itemize": "Ctrl-I"
   },
   "labels_anchors": false,
   "latex_user_defs": false,
   "report_style_numbering": false,
   "user_envs_cfg": false
  },
  "nteract": {
   "version": "0.2.0"
  }
 },
 "nbformat": 4,
 "nbformat_minor": 4
}
